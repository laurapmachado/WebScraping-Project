{
 "cells": [
  {
   "cell_type": "code",
   "execution_count": 1,
   "id": "af66fb25",
   "metadata": {},
   "outputs": [],
   "source": [
    "# import libraries \n",
    "\n",
    "from bs4 import BeautifulSoup\n",
    "import requests\n",
    "import time\n",
    "import datetime\n",
    "import smtplib"
   ]
  },
  {
   "cell_type": "code",
   "execution_count": 2,
   "id": "173f9a40",
   "metadata": {},
   "outputs": [
    {
     "name": "stdout",
     "output_type": "stream",
     "text": [
      "2023-04-13\n",
      "\n",
      "            Kindle Paperwhite (16 GB) | agora com um ecrã de 6,8\" e luz quente ajustável, sem publicidade\n",
      "           \n",
      "\n",
      "\n",
      "\n",
      "\n",
      "\n",
      "             172,80€\n",
      "            \n",
      "\n",
      "\n",
      "              172\n",
      "              \n",
      "               ,\n",
      "              \n",
      "\n",
      "\n",
      "              80\n",
      "             \n",
      "\n",
      "              €\n",
      "             \n",
      "\n",
      "\n",
      "\n",
      "\n",
      "\n",
      "\n",
      "\n",
      "\n",
      "\n",
      "\n",
      "\n",
      "\n",
      "\n",
      "\n"
     ]
    }
   ],
   "source": [
    "# data preparation: \n",
    "\n",
    "#1) pull the data from the website (product name, price) \n",
    "\n",
    "URL = 'https://www.amazon.es/-/pt/dp/B09TMF6742/ref=sr_1_2?crid=2KK75KFLFHSK0&keywords=kindle&qid=1681315354&sprefix=kindl%2Caps%2C194&sr=8-2&th=1'\n",
    "\n",
    "headers = {\"User-Agent\": \"Mozilla/5.0 (Windows NT 10.0; Win64; x64) AppleWebKit/537.36 (KHTML, like Gecko) Chrome/78.0.3904.108 Safari/537.36\", \"Accept-Encoding\":\"gzip, deflate\", \"Accept\":\"text/html,application/xhtml+xml,application/xml;q=0.9,*/*;q=0.8\", \"DNT\":\"1\",\"Connection\":\"close\", \"Upgrade-Insecure-Requests\":\"1\"}\n",
    "\n",
    "page = requests.get(URL, headers=headers)\n",
    "\n",
    "html = BeautifulSoup(page.content, \"html.parser\")\n",
    "\n",
    "html_clean = BeautifulSoup(html.prettify(), \"html.parser\")\n",
    "\n",
    "title = html_clean.find(id='productTitle').get_text()\n",
    "\n",
    "price = html_clean.find(id='corePriceDisplay_desktop_feature_div').get_text()\n",
    "\n",
    "#2) create timestamp to track when data was collected\n",
    "\n",
    "import datetime\n",
    "\n",
    "date = datetime.date.today()\n",
    "\n",
    "print(date)\n",
    "print(title)\n",
    "print(price)"
   ]
  },
  {
   "cell_type": "code",
   "execution_count": 3,
   "id": "32afb182",
   "metadata": {},
   "outputs": [
    {
     "name": "stdout",
     "output_type": "stream",
     "text": [
      "Kindle Paperwhite (16 GB)\n",
      "172,80\n",
      "2023-04-13\n"
     ]
    }
   ],
   "source": [
    "#data cleaning : remove whitespaces, remove price duplicate and unnecessary title text\n",
    "\n",
    "price = price.strip()[:6]\n",
    "title = title.strip()[:25]\n",
    "\n",
    "\n",
    "print(title)\n",
    "print(price)\n",
    "print(date)"
   ]
  },
  {
   "cell_type": "code",
   "execution_count": 4,
   "id": "7c710a02",
   "metadata": {},
   "outputs": [],
   "source": [
    "#process data: create a csv file, add headers and append data\n",
    "\n",
    "import csv \n",
    "\n",
    "header = ['Title', 'Price', 'Date']\n",
    "data = [title, price, date]\n",
    "\n",
    "with open('kindle_tracker.csv', 'w', newline='', encoding='UTF8') as f:\n",
    "    writer = csv.writer(f)\n",
    "    writer.writerow(header)\n",
    "    writer.writerow(data)\n",
    "    "
   ]
  },
  {
   "cell_type": "code",
   "execution_count": 5,
   "id": "cdf0b7b8",
   "metadata": {},
   "outputs": [
    {
     "name": "stdout",
     "output_type": "stream",
     "text": [
      "                       Title   Price        Date\n",
      "0  Kindle Paperwhite (16 GB)  172,80  2023-04-13\n"
     ]
    }
   ],
   "source": [
    "import pandas as pd\n",
    "\n",
    "price_tracker = pd.read_csv(r'C:\\Users\\Utilizador\\kindle_tracker.csv')\n",
    "\n",
    "print(price_tracker)"
   ]
  },
  {
   "cell_type": "code",
   "execution_count": 6,
   "id": "80ed202e",
   "metadata": {},
   "outputs": [],
   "source": [
    "with open('kindle_tracker.csv', 'a+', newline='', encoding='UTF8') as f:\n",
    "    writer = csv.writer(f)\n",
    "    writer.writerow(data)"
   ]
  },
  {
   "cell_type": "code",
   "execution_count": 7,
   "id": "060e9429",
   "metadata": {},
   "outputs": [
    {
     "name": "stdout",
     "output_type": "stream",
     "text": [
      "                       Title   Price        Date\n",
      "0  Kindle Paperwhite (16 GB)  172,80  2023-04-13\n",
      "1  Kindle Paperwhite (16 GB)  172,80  2023-04-13\n"
     ]
    }
   ],
   "source": [
    "import pandas as pd\n",
    "\n",
    "price_tracker = pd.read_csv(r'C:\\Users\\Utilizador\\kindle_tracker.csv')\n",
    "\n",
    "print(price_tracker)"
   ]
  },
  {
   "cell_type": "code",
   "execution_count": 8,
   "id": "ed038b07",
   "metadata": {},
   "outputs": [],
   "source": [
    "def price_tracker():\n",
    "    URL = 'https://www.amazon.es/-/pt/dp/B09TMF6742/ref=sr_1_2?crid=2KK75KFLFHSK0&keywords=kindle&qid=1681315354&sprefix=kindl%2Caps%2C194&sr=8-2&th=1'\n",
    "\n",
    "    headers = {\"User-Agent\": \"Mozilla/5.0 (Windows NT 10.0; Win64; x64) AppleWebKit/537.36 (KHTML, like Gecko) Chrome/78.0.3904.108 Safari/537.36\", \"Accept-Encoding\":\"gzip, deflate\", \"Accept\":\"text/html,application/xhtml+xml,application/xml;q=0.9,*/*;q=0.8\", \"DNT\":\"1\",\"Connection\":\"close\", \"Upgrade-Insecure-Requests\":\"1\"}\n",
    "\n",
    "    page = requests.get(URL, headers=headers)\n",
    "\n",
    "    html = BeautifulSoup(page.content, \"html.parser\")\n",
    "\n",
    "    html_clean = BeautifulSoup(html.prettify(), \"html.parser\")\n",
    "\n",
    "    title = html_clean.find(id='productTitle').get_text()\n",
    "\n",
    "    price = html_clean.find(id='corePriceDisplay_desktop_feature_div').get_text()\n",
    "    \n",
    "    import datetime\n",
    "\n",
    "    date = datetime.date.today()\n",
    "    \n",
    "    price = price.strip()[:6]\n",
    "    title = title.strip()[:25]\n",
    "    \n",
    "    import csv \n",
    "\n",
    "    header = ['Title', 'Price', 'Date']\n",
    "    data = [title, price, date]\n",
    "    \n",
    "    with open('kindle_tracker.csv', 'a+', newline='', encoding='UTF8') as f:\n",
    "        writer = csv.writer(f)\n",
    "        writer.writerow(data)\n",
    "        \n",
    "    "
   ]
  },
  {
   "cell_type": "code",
   "execution_count": null,
   "id": "2440d474",
   "metadata": {},
   "outputs": [],
   "source": [
    "while[True]:\n",
    "    price_tracker()\n",
    "    time.sleep(20000)"
   ]
  },
  {
   "cell_type": "code",
   "execution_count": null,
   "id": "49b84cad",
   "metadata": {},
   "outputs": [],
   "source": [
    "import pandas as pd\n",
    "\n",
    "price_tracker = pd.read_csv(r'C:\\Users\\Utilizador\\kindle_tracker.csv')\n",
    "\n",
    "print(price_tracker)"
   ]
  },
  {
   "cell_type": "code",
   "execution_count": null,
   "id": "6e4fe212",
   "metadata": {},
   "outputs": [],
   "source": []
  }
 ],
 "metadata": {
  "kernelspec": {
   "display_name": "Python 3 (ipykernel)",
   "language": "python",
   "name": "python3"
  },
  "language_info": {
   "codemirror_mode": {
    "name": "ipython",
    "version": 3
   },
   "file_extension": ".py",
   "mimetype": "text/x-python",
   "name": "python",
   "nbconvert_exporter": "python",
   "pygments_lexer": "ipython3",
   "version": "3.10.9"
  }
 },
 "nbformat": 4,
 "nbformat_minor": 5
}
